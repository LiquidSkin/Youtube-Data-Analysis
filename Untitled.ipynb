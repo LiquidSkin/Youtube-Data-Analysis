{
 "cells": [
  {
   "cell_type": "code",
   "execution_count": 1,
   "metadata": {},
   "outputs": [
    {
     "name": "stdout",
     "output_type": "stream",
     "text": [
      "+----+-----+----+---------+-----------+-------------+--------------+-------------------+--------------+---------+--------+-----------------+-------------+------------------+--------+-------------+-------------+------------+---------+--------------+-------------------+--------------+--------------+--------------+\n",
      "|Year|Month| Day|DayOfWeek|Flight_Date|UniqueCarrier|Origin_Airport|Scheduled_Departure|Departure_Time|Dep_Delay|DepDel15|Scheduled_Arrival|Arrival_Delay|Arr_Del_morethan15|Distance|DistanceGroup|Carrier_Delay|WeatherDelay|NAS_Delay|Security_Delay|Late_Aircraft_Delay|DEPTIME_GROUP1|DEPTIME_GROUP2|DEPTIME_GROUP3|\n",
      "+----+-----+----+---------+-----------+-------------+--------------+-------------------+--------------+---------+--------+-----------------+-------------+------------------+--------+-------------+-------------+------------+---------+--------------+-------------------+--------------+--------------+--------------+\n",
      "|2017|    5|  15|        1| 15/05/2017|           DL|           DFW|               1605|          1600|       -5|       0|             1913|          -16|                 0|     731|            3|            0|           0|        0|             0|                  0|     1200-1800|     1400-1600|     1500-1600|\n",
      "|   \"| null|null|     null|       null|         null|          null|               null|          null|     null|    null|             null|         null|              null|    null|         null|         null|        null|     null|          null|               null|          null|          null|          null|\n",
      "|2017|    5|  15|        1| 15/05/2017|           DL|           MSP|                700|           656|       -4|       0|              824|          -14|                 0|    1276|            6|            0|           0|        0|             0|                  0|     0600-1200|     0600-0800|     0600-0700|\n",
      "|   \"| null|null|     null|       null|         null|          null|               null|          null|     null|    null|             null|         null|              null|    null|         null|         null|        null|     null|          null|               null|          null|          null|          null|\n",
      "|2017|    5|  15|        1| 15/05/2017|           DL|           ATL|               2147|          2147|        0|       0|             2210|          -12|                 0|     350|            2|            0|           0|        0|             0|                  0|     1800-2359|     2000-2200|     2100-2200|\n",
      "|   \"| null|null|     null|       null|         null|          null|               null|          null|     null|    null|             null|         null|              null|    null|         null|         null|        null|     null|          null|               null|          null|          null|          null|\n",
      "|2017|    5|  15|        1| 15/05/2017|           DL|           MSP|               1756|          1757|        1|       0|             1925|           -1|                 0|    1276|            6|            0|           0|        0|             0|                  0|     1200-1800|     1600-1800|     1700-1800|\n",
      "|   \"| null|null|     null|       null|         null|          null|               null|          null|     null|    null|             null|         null|              null|    null|         null|         null|        null|     null|          null|               null|          null|          null|          null|\n",
      "|2017|    5|  15|        1| 15/05/2017|           DL|           DEN|                600|           646|       46|       1|             1057|           26|                 1|    1199|            5|           26|           0|        0|             0|                  0|     0600-1200|     0600-0800|     0600-0700|\n",
      "|   \"| null|null|     null|       null|         null|          null|               null|          null|     null|    null|             null|         null|              null|    null|         null|         null|        null|     null|          null|               null|          null|          null|          null|\n",
      "|2017|    5|  15|        1| 15/05/2017|           DL|           ATL|               2129|          2126|       -3|       0|             2230|          -16|                 0|     143|            1|            0|           0|        0|             0|                  0|     1800-2359|     2000-2200|     2100-2200|\n",
      "|   \"| null|null|     null|       null|         null|          null|               null|          null|     null|    null|             null|         null|              null|    null|         null|         null|        null|     null|          null|               null|          null|          null|          null|\n",
      "|2017|    5|  15|        1| 15/05/2017|           DL|           ATL|                811|           807|       -4|       0|              940|          -13|                 0|     432|            2|            0|           0|        0|             0|                  0|     0600-1200|     0800-1000|     0800-0900|\n",
      "|   \"| null|null|     null|       null|         null|          null|               null|          null|     null|    null|             null|         null|              null|    null|         null|         null|        null|     null|          null|               null|          null|          null|          null|\n",
      "|2017|    5|  15|        1| 15/05/2017|           DL|           ATL|                813|           811|       -2|       0|              928|           -5|                 0|     321|            2|            0|           0|        0|             0|                  0|     0600-1200|     0800-1000|     0800-0900|\n",
      "|   \"| null|null|     null|       null|         null|          null|               null|          null|     null|    null|             null|         null|              null|    null|         null|         null|        null|     null|          null|               null|          null|          null|          null|\n",
      "|2017|    5|  15|        1| 15/05/2017|           DL|           BOS|               1647|          1641|       -6|       0|             1906|          -21|                 0|     632|            3|            0|           0|        0|             0|                  0|     1200-1800|     1600-1800|     1600-1700|\n",
      "|   \"| null|null|     null|       null|         null|          null|               null|          null|     null|    null|             null|         null|              null|    null|         null|         null|        null|     null|          null|               null|          null|          null|          null|\n",
      "|2017|    5|  15|        1| 15/05/2017|           DL|           ATL|               1515|          1510|       -5|       0|             1706|           -3|                 0|     646|            3|            0|           0|        0|             0|                  0|     1200-1800|     1400-1600|     1500-1600|\n",
      "|   \"| null|null|     null|       null|         null|          null|               null|          null|     null|    null|             null|         null|              null|    null|         null|         null|        null|     null|          null|               null|          null|          null|          null|\n",
      "+----+-----+----+---------+-----------+-------------+--------------+-------------------+--------------+---------+--------+-----------------+-------------+------------------+--------+-------------+-------------+------------+---------+--------------+-------------------+--------------+--------------+--------------+\n",
      "only showing top 20 rows\n",
      "\n"
     ]
    }
   ],
   "source": [
    "from pyspark.sql import SparkSession\n",
    "from pyspark.sql import SQLContext\n",
    "import matplotlib.pyplot as plt\n",
    "import seaborn as sns\n",
    "import plotly as plot\n",
    "from pyspark.sql.functions import col\n",
    "import pandas as pd\n",
    "import numpy as np\n",
    "\n",
    "spark = SparkSession.builder.appName('abc').getOrCreate()\n",
    "\n",
    "df=spark.read.csv('fl_samp.csv',header=True)\n",
    "df.show()"
   ]
  },
  {
   "cell_type": "code",
   "execution_count": null,
   "metadata": {},
   "outputs": [],
   "source": []
  }
 ],
 "metadata": {
  "kernelspec": {
   "display_name": "Python 2",
   "language": "python",
   "name": "python2"
  },
  "language_info": {
   "codemirror_mode": {
    "name": "ipython",
    "version": 2
   },
   "file_extension": ".py",
   "mimetype": "text/x-python",
   "name": "python",
   "nbconvert_exporter": "python",
   "pygments_lexer": "ipython2",
   "version": "2.7.15"
  }
 },
 "nbformat": 4,
 "nbformat_minor": 2
}
