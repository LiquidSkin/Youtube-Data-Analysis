{
 "cells": [
  {
   "cell_type": "code",
   "execution_count": 3,
   "metadata": {},
   "outputs": [
    {
     "name": "stdout",
     "output_type": "stream",
     "text": [
      "+-----------+--------------------+-----+-------+\n",
      "|   video_id|        comment_text|likes|replies|\n",
      "+-----------+--------------------+-----+-------+\n",
      "|XpVt6Z1Gjjo|Logan Paul it's y...|    4|      0|\n",
      "|XpVt6Z1Gjjo|I've been followi...|    3|      0|\n",
      "|XpVt6Z1Gjjo|Say hi to Kong an...|    3|      0|\n",
      "|XpVt6Z1Gjjo| MY FAN . attendance|    3|      0|\n",
      "|XpVt6Z1Gjjo|         trending 😉|    3|      0|\n",
      "|XpVt6Z1Gjjo|#1 on trending AY...|    3|      0|\n",
      "|XpVt6Z1Gjjo|The end though 😭...|    4|      0|\n",
      "|XpVt6Z1Gjjo|#1 trending!!!!!!!!!|    3|      0|\n",
      "|XpVt6Z1Gjjo|Happy one year vl...|    3|      0|\n",
      "|XpVt6Z1Gjjo|You and your shit...|    0|      0|\n",
      "|XpVt6Z1Gjjo|There should be a...|    0|      0|\n",
      "|XpVt6Z1Gjjo|Dear Logan, I rea...|    0|      0|\n",
      "|XpVt6Z1Gjjo|Honestly Evan is ...|    0|      0|\n",
      "|XpVt6Z1Gjjo|Casey is still be...|    0|      0|\n",
      "|XpVt6Z1Gjjo|aw geez rick this...|    0|      0|\n",
      "|XpVt6Z1Gjjo|He happy cause he...|    0|      0|\n",
      "|XpVt6Z1Gjjo|Ayyyyoooo Logang ...|    1|      0|\n",
      "|XpVt6Z1Gjjo|Bro y didnt u giv...|    0|      0|\n",
      "|XpVt6Z1Gjjo|It's been fun wat...|    3|      0|\n",
      "|XpVt6Z1Gjjo|Made a lot of peo...|    0|      0|\n",
      "+-----------+--------------------+-----+-------+\n",
      "only showing top 20 rows\n",
      "\n"
     ]
    }
   ],
   "source": [
    "from pyspark.sql import SparkSession\n",
    "from pyspark.sql import SQLContext\n",
    "import matplotlib.pyplot as plt\n",
    "from pyspark.sql.functions import col\n",
    "import pandas as pd\n",
    "import wordcloud\n",
    "\n",
    "spark = SparkSession.builder.appName('abc').getOrCreate()\n",
    "\n",
    "df=spark.read.csv('UScomments.csv',header=True)\n",
    "df.show()"
   ]
  },
  {
   "cell_type": "code",
   "execution_count": null,
   "metadata": {},
   "outputs": [],
   "source": [
    "from wordcloud import WordCloud, STOPWORDS\n",
    "\n",
    "df.createOrReplaceTempView(\"comments\")\n",
    "df1 = spark.sql(\"select comment_text from comments limit 10000\")\n",
    "comments = df1.select(\"comment_text\").rdd.flatMap(lambda x: x).collect()\n",
    "comment_words = ' '\n",
    "stopwords = set(STOPWORDS)\n",
    "for i in range(len(comments)):\n",
    "    yourstring = comments[i].encode('ascii', 'ignore').decode('ascii')\n",
    "    tokens = yourstring.split()\n",
    "    for i in range(len(tokens)):\n",
    "        tokens[i] = tokens[i].lower()\n",
    "    \n",
    "    for words in tokens:\n",
    "        comment_words = comment_words + words + ' '\n",
    "        \n",
    "\n",
    "wordcloud = WordCloud(width = 800, height = 800, \n",
    "background_color ='black', \n",
    "stopwords = stopwords, \n",
    "min_font_size = 10).generate(comment_words) \n",
    "\n",
    "\n",
    "plt.figure(figsize = (8, 8), facecolor = None) \n",
    "plt.imshow(wordcloud) \n",
    "plt.axis(\"off\") \n",
    "plt.tight_layout(pad = 0) \n",
    "  \n",
    "plt.show() \n",
    "    \n",
    "    "
   ]
  },
  {
   "cell_type": "code",
   "execution_count": 9,
   "metadata": {},
   "outputs": [
    {
     "data": {
      "image/png": "[encoded data removed]",
      "text/plain": [
       "<matplotlib.figure.Figure at 0x1075aaad0>"
      ]
     },
     "metadata": {},
     "output_type": "display_data"
    },
    {
     "data": {
      "image/png": "[encoded data removed]",
      "text/plain": [
       "<matplotlib.figure.Figure at 0x113cce690>"
      ]
     },
     "metadata": {},
     "output_type": "display_data"
    }
   ],
   "source": [
    "from palettable.colorbrewer.qualitative import Pastel1_7\n",
    "\n",
    "classification_list = []\n",
    "good_str = 0\n",
    "bad_str = 0\n",
    "happy_str = 0\n",
    "sad_str = 0\n",
    "comment_dict = {}\n",
    "for i in range(len(comments)):\n",
    "    yourstring = comments[i].encode('ascii', 'ignore').decode('ascii')\n",
    "    if 'fuck' in yourstring or 'nigger' in yourstring or 'shit' in yourstring or 'fucking' in yourstring or 'dick' in yourstring or 'hell' in yourstring or 'scum' in yourstring or 'faggot' in yourstring or 'cunt' in yourstring or 'whore' in yourstring or 'bitch' in yourstring or 'shemale' in yourstring or 'slut' in yourstring or 'chink' in yourstring or 'negro' in yourstring:\n",
    "        bad_str += 1\n",
    "        classification_list.append(yourstring)\n",
    "    elif 'excited' in yourstring or 'happy' in yourstring or 'great' in yourstring or 'awesome' in yourstring:\n",
    "        happy_str +=1\n",
    "    elif 'sad' in yourstring  or 'disappointed' in yourstring: \n",
    "        sad_str +=1\n",
    "    else:\n",
    "        good_str += 1\n",
    "        \n",
    "names = 'hate','happy', 'sad','normal',\n",
    "size=[bad_str,happy_str,sad_str,good_str]\n",
    "my_circle=plt.Circle( (0,0), 0.5, color='white')\n",
    "plt.pie(size, labels=names, colors=Pastel1_7.hex_colors)\n",
    "p=plt.gcf()\n",
    "p.gca().add_artist(my_circle)\n",
    "plt.show()\n",
    "\n",
    "labels = ['hate', 'happy', 'sad', 'normal']\n",
    "sizes = [bad_str,happy_str,sad_str,good_str]\n",
    "colors = ['yellowgreen', 'gold', 'lightskyblue', 'lightcoral']\n",
    "patches, texts = plt.pie(sizes, colors=colors, startangle=90)\n",
    "plt.legend(patches, labels, loc=\"best\")\n",
    "plt.axis('equal')\n",
    "plt.tight_layout()\n",
    "plt.show()"
   ]
  },
  {
   "cell_type": "code",
   "execution_count": null,
   "metadata": {},
   "outputs": [],
   "source": []
  },
  {
   "cell_type": "code",
   "execution_count": null,
   "metadata": {},
   "outputs": [],
   "source": []
  }
 ],
 "metadata": {
  "kernelspec": {
   "display_name": "Python 2",
   "language": "python",
   "name": "python2"
  },
  "language_info": {
   "codemirror_mode": {
    "name": "ipython",
    "version": 2
   },
   "file_extension": ".py",
   "mimetype": "text/x-python",
   "name": "python",
   "nbconvert_exporter": "python",
   "pygments_lexer": "ipython2",
   "version": "2.7.15"
  }
 },
 "nbformat": 4,
 "nbformat_minor": 2
}
