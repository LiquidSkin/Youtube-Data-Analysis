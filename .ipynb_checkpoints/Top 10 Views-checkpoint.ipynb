{
 "cells": [
  {
   "cell_type": "code",
   "execution_count": 20,
   "metadata": {},
   "outputs": [
    {
     "name": "stdout",
     "output_type": "stream",
     "text": [
      "+-----------+-------------+--------------------+--------------------+-----------+--------------------+--------------------+-------+------+--------+-------------+--------------------+-----------------+----------------+----------------------+--------------------+\n",
      "|   video_id|trending_date|               title|       channel_title|category_id|        publish_time|                tags|  views| likes|dislikes|comment_count|      thumbnail_link|comments_disabled|ratings_disabled|video_error_or_removed|         description|\n",
      "+-----------+-------------+--------------------+--------------------+-----------+--------------------+--------------------+-------+------+--------+-------------+--------------------+-----------------+----------------+----------------------+--------------------+\n",
      "|2kyS6SvSYSE|     17.14.11|WE WANT TO TALK A...|        CaseyNeistat|         22|2017-11-13T17:13:...|     SHANtell martin| 748374| 57527|    2966|        15954|https://i.ytimg.c...|            False|           False|                 False|SHANTELL'S CHANNE...|\n",
      "|1ZAPwfrtAFY|     17.14.11|The Trump Preside...|     LastWeekTonight|         24|2017-11-13T07:30:...|\"last week tonigh...|2418783| 97185|    6146|        12703|https://i.ytimg.c...|            False|           False|                 False|One year after th...|\n",
      "|5qpjK5DgCt4|     17.14.11|Racist Superman |...|        Rudy Mancuso|         23|2017-11-12T19:05:...|\"racist superman\"...|3191434|146033|    5339|         8181|https://i.ytimg.c...|            False|           False|                 False|WATCH MY PREVIOUS...|\n",
      "|puqaWrEC7tY|     17.14.11|Nickelback Lyrics...|Good Mythical Mor...|         24|2017-11-13T11:00:...|\"rhett and link\"|...| 343168| 10172|     666|         2146|https://i.ytimg.c...|            False|           False|                 False|Today we find out...|\n",
      "|d380meD0W0M|     17.14.11|I Dare You: GOING...|            nigahiga|         24|2017-11-12T18:01:...|\"ryan\"|\"higa\"|\"hi...|2095731|132235|    1989|        17518|https://i.ytimg.c...|            False|           False|                 False|I know it's been ...|\n",
      "|gHZ1Qz0KiKM|     17.14.11|2 Weeks with iPho...|            iJustine|         28|2017-11-13T19:07:...|\"ijustine\"|\"week ...| 119180|  9763|     511|         1434|https://i.ytimg.c...|            False|           False|                 False|Using the iPhone ...|\n",
      "|39idVpFF7NQ|     17.14.11|Roy Moore & Jeff ...| Saturday Night Live|         24|2017-11-12T05:37:...|\"SNL\"|\"Saturday N...|2103417| 15993|    2445|         1970|https://i.ytimg.c...|            False|           False|                 False|Embattled Alabama...|\n",
      "|nc99ccSXST0|     17.14.11|5 Ice Cream Gadge...|  CrazyRussianHacker|         28|2017-11-12T21:50:...|\"5 Ice Cream Gadg...| 817732| 23663|     778|         3432|https://i.ytimg.c...|            False|           False|                 False|Ice Cream Pint Co...|\n",
      "|jr9QtXwC9vc|     17.14.11|The Greatest Show...|    20th Century Fox|          1|2017-11-13T14:00:...|\"Trailer\"|\"Hugh J...| 826059|  3543|     119|          340|https://i.ytimg.c...|            False|           False|                 False|Inspired by the i...|\n",
      "|TUmyygCMMGA|     17.14.11|Why the rise of t...|                 Vox|         25|2017-11-13T13:45:...|\"vox.com\"|\"vox\"|\"...| 256426| 12654|    1363|         2368|https://i.ytimg.c...|            False|           False|                 False|For now, at least...|\n",
      "|9wRQljFNDW8|     17.14.11|Dion Lewis' 103-Y...|                 NFL|         17|2017-11-13T02:05:...|\"NFL\"|\"Football\"|...|  81377|   655|      25|          177|https://i.ytimg.c...|            False|           False|                 False|New England Patri...|\n",
      "|VifQlJit6A0|     17.14.11|(SPOILERS) 'Shiva...|                 amc|         24|2017-11-13T03:00:...|\"The Walking Dead...| 104578|  1576|     303|         1279|https://i.ytimg.c...|            False|           False|                 False|Shiva arrives jus...|\n",
      "|5E4ZBSInqUU|     17.14.11|Marshmello - Bloc...|          marshmello|         10|2017-11-13T17:00:...|\"marshmello\"|\"blo...| 687582|114188|    1333|         8371|https://i.ytimg.c...|            False|           False|                 False|WATCH SILENCE MUS...|\n",
      "|GgVmn66oK_A|     17.14.11|Which Countries A...|       NowThis World|         25|2017-11-12T14:00:...|\"nowthis\"|\"nowthi...| 544770|  7848|    1171|         3981|https://i.ytimg.c...|            False|           False|                 False|The world at larg...|\n",
      "|TaTleo4cOs8|     17.14.11|SHOPPING FOR NEW ...|     The king of DIY|         15|2017-11-12T18:30:...|\"shopping for new...| 207532|  7473|     246|         2120|https://i.ytimg.c...|            False|           False|                 False|Today we go shopp...|\n",
      "|kgaO45SyaO4|     17.14.11|    The New SpotMini|      BostonDynamics|         28|2017-11-13T20:09:...|\"Robots\"|\"Boston ...|  75752|  9419|      52|         1230|https://i.ytimg.c...|            False|           False|                 False|For more informat...|\n",
      "|ZAQs-ctOqXQ|     17.14.11|One Change That W...|             Cracked|         23|2017-11-12T17:00:...|\"pacific rim\"|\"pa...| 295639|  8011|     638|         1256|https://i.ytimg.c...|            False|           False|                 False|Pacific Rim was s...|\n",
      "|YVfyYrEmzgM|     17.14.11|How does your bod...|              TED-Ed|         27|2017-11-13T16:00:...|\"TED\"|\"TED-Ed\"|\"T...|  78044|  5398|      53|          385|https://i.ytimg.c...|            False|           False|                 False|Check out our Pat...|\n",
      "|eNSN6qet1kE|     17.14.11|HomeMade Electric...|         PeterSripol|         28|2017-11-13T15:30:...|\"ultralight\"|\"air...|  97007| 11963|      36|         2211|https://i.ytimg.c...|            False|           False|                 False|aaaannnd now to f...|\n",
      "|B5HORANmzHw|     17.14.11|Founding An Inbre...|             SciShow|         27|2017-11-12T22:00:...|\"SciShow\"|\"scienc...| 223871|  8421|     191|         1214|https://i.ytimg.c...|            False|           False|                 False|Thanks to 23AndMe...|\n",
      "+-----------+-------------+--------------------+--------------------+-----------+--------------------+--------------------+-------+------+--------+-------------+--------------------+-----------------+----------------+----------------------+--------------------+\n",
      "only showing top 20 rows\n",
      "\n"
     ]
    }
   ],
   "source": [
    "from pyspark.sql import SparkSession\n",
    "from pyspark.sql import SQLContext\n",
    "import matplotlib.pyplot as plt\n",
    "import seaborn as sns\n",
    "import plotly as plot\n",
    "spark = SparkSession.builder.appName('abc').getOrCreate()\n",
    "\n",
    "df=spark.read.csv('USvideos.csv',header=True)\n",
    "df.show()"
   ]
  },
  {
   "cell_type": "code",
   "execution_count": 10,
   "metadata": {},
   "outputs": [
    {
     "name": "stdout",
     "output_type": "stream",
     "text": [
      "+-----------+-------------+--------------------+--------------------+-----------+--------------------+--------------------+-------+------+--------+-------------+--------------------+-----------------+----------------+----------------------+--------------------+\n",
      "|   video_id|trending_date|               title|       channel_title|category_id|        publish_time|                tags|  views| likes|dislikes|comment_count|      thumbnail_link|comments_disabled|ratings_disabled|video_error_or_removed|         description|\n",
      "+-----------+-------------+--------------------+--------------------+-----------+--------------------+--------------------+-------+------+--------+-------------+--------------------+-----------------+----------------+----------------------+--------------------+\n",
      "|2kyS6SvSYSE|     17.14.11|WE WANT TO TALK A...|        CaseyNeistat|         22|2017-11-13T17:13:...|     SHANtell martin| 748374| 57527|    2966|        15954|https://i.ytimg.c...|            False|           False|                 False|SHANTELL'S CHANNE...|\n",
      "|1ZAPwfrtAFY|     17.14.11|The Trump Preside...|     LastWeekTonight|         24|2017-11-13T07:30:...|\"last week tonigh...|2418783| 97185|    6146|        12703|https://i.ytimg.c...|            False|           False|                 False|One year after th...|\n",
      "|5qpjK5DgCt4|     17.14.11|Racist Superman |...|        Rudy Mancuso|         23|2017-11-12T19:05:...|\"racist superman\"...|3191434|146033|    5339|         8181|https://i.ytimg.c...|            False|           False|                 False|WATCH MY PREVIOUS...|\n",
      "|puqaWrEC7tY|     17.14.11|Nickelback Lyrics...|Good Mythical Mor...|         24|2017-11-13T11:00:...|\"rhett and link\"|...| 343168| 10172|     666|         2146|https://i.ytimg.c...|            False|           False|                 False|Today we find out...|\n",
      "|d380meD0W0M|     17.14.11|I Dare You: GOING...|            nigahiga|         24|2017-11-12T18:01:...|\"ryan\"|\"higa\"|\"hi...|2095731|132235|    1989|        17518|https://i.ytimg.c...|            False|           False|                 False|I know it's been ...|\n",
      "+-----------+-------------+--------------------+--------------------+-----------+--------------------+--------------------+-------+------+--------+-------------+--------------------+-----------------+----------------+----------------------+--------------------+\n",
      "only showing top 5 rows\n",
      "\n"
     ]
    }
   ],
   "source": [
    "df.createOrReplaceTempView(\"people\")\n",
    "spark.sql(\"select * from people\").show(n=5)\n"
   ]
  },
  {
   "cell_type": "code",
   "execution_count": 39,
   "metadata": {},
   "outputs": [
    {
     "name": "stdout",
     "output_type": "stream",
     "text": [
      "+--------------------+-------+\n",
      "|               title|  views|\n",
      "+--------------------+-------+\n",
      "|The perfect ice -...|  99999|\n",
      "|Emily Blunt and J...| 999933|\n",
      "|DIY STUDY HACKS! ...| 999910|\n",
      "|Justin Timberlake...|9998724|\n",
      "|10 Ways to Tell I...| 999867|\n",
      "|NBA All-Star Cele...| 999818|\n",
      "|Allison Janney De...| 999770|\n",
      "|MY EVERYDAY MAKEU...| 999640|\n",
      "|Trevor Chats with...| 999619|\n",
      "|Why We  Should No...|  99959|\n",
      "+--------------------+-------+\n",
      "\n"
     ]
    }
   ],
   "source": [
    "df3 = spark.sql(\"select channel_title,views from people order by views DESC limit 10\")\n",
    "df3.show()\n",
    "df3.coalesce(1).write.option(\"delimiter\",\",\").option(\"header\",\"true\").mode(\"overwrite\").csv(\"output1.csv\")"
   ]
  },
  {
   "cell_type": "code",
   "execution_count": null,
   "metadata": {},
   "outputs": [],
   "source": [
    "df"
   ]
  }
 ],
 "metadata": {
  "kernelspec": {
   "display_name": "Python 2",
   "language": "python",
   "name": "python2"
  },
  "language_info": {
   "codemirror_mode": {
    "name": "ipython",
    "version": 2
   },
   "file_extension": ".py",
   "mimetype": "text/x-python",
   "name": "python",
   "nbconvert_exporter": "python",
   "pygments_lexer": "ipython2",
   "version": "2.7.15"
  }
 },
 "nbformat": 4,
 "nbformat_minor": 2
}
